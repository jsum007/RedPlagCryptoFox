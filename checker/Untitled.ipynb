{
 "cells": [
  {
   "cell_type": "code",
   "execution_count": 12,
   "metadata": {},
   "outputs": [
    {
     "name": "stdout",
     "output_type": "stream",
     "text": [
      "#include <iostream>  \n",
      "using namespace std;\n",
      "\n",
      "class Point {\n",
      "\n",
      "public:\n",
      "\n",
      "\tint x, y;\n",
      "}  \n",
      "\n",
      "class box {\n",
      "\t\n",
      "\tPoint tl, br;\n",
      "};\n",
      "\n",
      "int main()  \n",
      "{  \n",
      "   int i,fact=1,number;    \n",
      "  cout<<\"Enter any Number: \";    \n",
      " cin>>number;    \n",
      "  for(i=1;i<=number;i++){    \n",
      "      fact=fact*i;    \n",
      "  }    \n",
      "  cout<<\"Factorial of \" <<number<<\" is: \"<<fact<<endl;  \n",
      "  return 0;  \n",
      "} \n"
     ]
    }
   ],
   "source": [
    "txt = open('sample4.cpp').read()\n",
    "print(txt)"
   ]
  },
  {
   "cell_type": "code",
   "execution_count": 21,
   "metadata": {},
   "outputs": [
    {
     "name": "stdout",
     "output_type": "stream",
     "text": [
      "[('Point', ' '), ('box', ' ')]\n"
     ]
    }
   ],
   "source": [
    "import re\n",
    "x = re.findall(\".*class\\s+([^{]+)\\s*[:]?([^{]+){\", txt)\n",
    "print(x)"
   ]
  },
  {
   "cell_type": "code",
   "execution_count": 22,
   "metadata": {},
   "outputs": [
    {
     "name": "stderr",
     "output_type": "stream",
     "text": [
      "INFO Parsing source file \"sample4.cpp\" ... \n"
     ]
    },
    {
     "ename": "RuntimeError",
     "evalue": "Please pass the compiler_path as argument to your xml_generator_configuration_t(), or add it to your pygccxml configuration file.",
     "output_type": "error",
     "traceback": [
      "\u001b[1;31m---------------------------------------------------------------------------\u001b[0m",
      "\u001b[1;31mRuntimeError\u001b[0m                              Traceback (most recent call last)",
      "\u001b[1;32m<ipython-input-22-d2ca2c0abe1b>\u001b[0m in \u001b[0;36m<module>\u001b[1;34m\u001b[0m\n\u001b[0;32m     14\u001b[0m \u001b[0mfilename\u001b[0m \u001b[1;33m=\u001b[0m \u001b[1;34m\"sample4.cpp\"\u001b[0m\u001b[1;33m\u001b[0m\u001b[1;33m\u001b[0m\u001b[0m\n\u001b[0;32m     15\u001b[0m \u001b[1;33m\u001b[0m\u001b[0m\n\u001b[1;32m---> 16\u001b[1;33m \u001b[0mdecls\u001b[0m \u001b[1;33m=\u001b[0m \u001b[0mparser\u001b[0m\u001b[1;33m.\u001b[0m\u001b[0mparse\u001b[0m\u001b[1;33m(\u001b[0m\u001b[1;33m[\u001b[0m\u001b[0mfilename\u001b[0m\u001b[1;33m]\u001b[0m\u001b[1;33m,\u001b[0m \u001b[0mxml_generator_config\u001b[0m\u001b[1;33m)\u001b[0m\u001b[1;33m\u001b[0m\u001b[1;33m\u001b[0m\u001b[0m\n\u001b[0m\u001b[0;32m     17\u001b[0m \u001b[0mglobal_namespace\u001b[0m \u001b[1;33m=\u001b[0m \u001b[0mdeclarations\u001b[0m\u001b[1;33m.\u001b[0m\u001b[0mget_global_namespace\u001b[0m\u001b[1;33m(\u001b[0m\u001b[0mdecls\u001b[0m\u001b[1;33m)\u001b[0m\u001b[1;33m\u001b[0m\u001b[1;33m\u001b[0m\u001b[0m\n\u001b[0;32m     18\u001b[0m \u001b[0mns\u001b[0m \u001b[1;33m=\u001b[0m \u001b[0mglobal_namespace\u001b[0m\u001b[1;33m.\u001b[0m\u001b[0mnamespace\u001b[0m\u001b[1;33m(\u001b[0m\u001b[1;34m\"ns\"\u001b[0m\u001b[1;33m)\u001b[0m\u001b[1;33m\u001b[0m\u001b[1;33m\u001b[0m\u001b[0m\n",
      "\u001b[1;32mc:\\users\\aakri\\appdata\\local\\programs\\python\\python37\\lib\\site-packages\\pygccxml\\parser\\__init__.py\u001b[0m in \u001b[0;36mparse\u001b[1;34m(files, config, compilation_mode, cache)\u001b[0m\n\u001b[0;32m     49\u001b[0m         \u001b[0mconfig\u001b[0m \u001b[1;33m=\u001b[0m \u001b[0mxml_generator_configuration_t\u001b[0m\u001b[1;33m(\u001b[0m\u001b[1;33m)\u001b[0m\u001b[1;33m\u001b[0m\u001b[1;33m\u001b[0m\u001b[0m\n\u001b[0;32m     50\u001b[0m     \u001b[0mparser\u001b[0m \u001b[1;33m=\u001b[0m \u001b[0mproject_reader_t\u001b[0m\u001b[1;33m(\u001b[0m\u001b[0mconfig\u001b[0m\u001b[1;33m=\u001b[0m\u001b[0mconfig\u001b[0m\u001b[1;33m,\u001b[0m \u001b[0mcache\u001b[0m\u001b[1;33m=\u001b[0m\u001b[0mcache\u001b[0m\u001b[1;33m)\u001b[0m\u001b[1;33m\u001b[0m\u001b[1;33m\u001b[0m\u001b[0m\n\u001b[1;32m---> 51\u001b[1;33m     \u001b[0mdeclarations\u001b[0m \u001b[1;33m=\u001b[0m \u001b[0mparser\u001b[0m\u001b[1;33m.\u001b[0m\u001b[0mread_files\u001b[0m\u001b[1;33m(\u001b[0m\u001b[0mfiles\u001b[0m\u001b[1;33m,\u001b[0m \u001b[0mcompilation_mode\u001b[0m\u001b[1;33m)\u001b[0m\u001b[1;33m\u001b[0m\u001b[1;33m\u001b[0m\u001b[0m\n\u001b[0m\u001b[0;32m     52\u001b[0m     \u001b[0mconfig\u001b[0m\u001b[1;33m.\u001b[0m\u001b[0mxml_generator_from_xml_file\u001b[0m \u001b[1;33m=\u001b[0m \u001b[0mparser\u001b[0m\u001b[1;33m.\u001b[0m\u001b[0mxml_generator_from_xml_file\u001b[0m\u001b[1;33m\u001b[0m\u001b[1;33m\u001b[0m\u001b[0m\n\u001b[0;32m     53\u001b[0m     \u001b[1;32mreturn\u001b[0m \u001b[0mdeclarations\u001b[0m\u001b[1;33m\u001b[0m\u001b[1;33m\u001b[0m\u001b[0m\n",
      "\u001b[1;32mc:\\users\\aakri\\appdata\\local\\programs\\python\\python37\\lib\\site-packages\\pygccxml\\parser\\project_reader.py\u001b[0m in \u001b[0;36mread_files\u001b[1;34m(self, files, compilation_mode)\u001b[0m\n\u001b[0;32m    262\u001b[0m                     \"FILE_BY_FILE mode.\"])\n\u001b[0;32m    263\u001b[0m                 \u001b[0mself\u001b[0m\u001b[1;33m.\u001b[0m\u001b[0mlogger\u001b[0m\u001b[1;33m.\u001b[0m\u001b[0mwarning\u001b[0m\u001b[1;33m(\u001b[0m\u001b[0mmsg\u001b[0m\u001b[1;33m)\u001b[0m\u001b[1;33m\u001b[0m\u001b[1;33m\u001b[0m\u001b[0m\n\u001b[1;32m--> 264\u001b[1;33m             \u001b[1;32mreturn\u001b[0m \u001b[0mself\u001b[0m\u001b[1;33m.\u001b[0m\u001b[0m__parse_file_by_file\u001b[0m\u001b[1;33m(\u001b[0m\u001b[0mfiles\u001b[0m\u001b[1;33m)\u001b[0m\u001b[1;33m\u001b[0m\u001b[1;33m\u001b[0m\u001b[0m\n\u001b[0m\u001b[0;32m    265\u001b[0m \u001b[1;33m\u001b[0m\u001b[0m\n\u001b[0;32m    266\u001b[0m     \u001b[1;32mdef\u001b[0m \u001b[0m__parse_file_by_file\u001b[0m\u001b[1;33m(\u001b[0m\u001b[0mself\u001b[0m\u001b[1;33m,\u001b[0m \u001b[0mfiles\u001b[0m\u001b[1;33m)\u001b[0m\u001b[1;33m:\u001b[0m\u001b[1;33m\u001b[0m\u001b[1;33m\u001b[0m\u001b[0m\n",
      "\u001b[1;32mc:\\users\\aakri\\appdata\\local\\programs\\python\\python37\\lib\\site-packages\\pygccxml\\parser\\project_reader.py\u001b[0m in \u001b[0;36m__parse_file_by_file\u001b[1;34m(self, files)\u001b[0m\n\u001b[0;32m    290\u001b[0m                     \u001b[0mfile_configuration_t\u001b[0m\u001b[1;33m.\u001b[0m\u001b[0mCONTENT_TYPE\u001b[0m\u001b[1;33m.\u001b[0m\u001b[0mSTANDARD_SOURCE_FILE\u001b[0m\u001b[1;33m:\u001b[0m\u001b[1;33m\u001b[0m\u001b[1;33m\u001b[0m\u001b[0m\n\u001b[0;32m    291\u001b[0m                 \u001b[0mself\u001b[0m\u001b[1;33m.\u001b[0m\u001b[0mlogger\u001b[0m\u001b[1;33m.\u001b[0m\u001b[0minfo\u001b[0m\u001b[1;33m(\u001b[0m\u001b[1;34m'Parsing source file \"%s\" ... '\u001b[0m\u001b[1;33m,\u001b[0m \u001b[0mheader\u001b[0m\u001b[1;33m)\u001b[0m\u001b[1;33m\u001b[0m\u001b[1;33m\u001b[0m\u001b[0m\n\u001b[1;32m--> 292\u001b[1;33m                 \u001b[0mdecls\u001b[0m \u001b[1;33m=\u001b[0m \u001b[0mreader\u001b[0m\u001b[1;33m.\u001b[0m\u001b[0mread_file\u001b[0m\u001b[1;33m(\u001b[0m\u001b[0mheader\u001b[0m\u001b[1;33m)\u001b[0m\u001b[1;33m\u001b[0m\u001b[1;33m\u001b[0m\u001b[0m\n\u001b[0m\u001b[0;32m    293\u001b[0m             \u001b[1;32melif\u001b[0m \u001b[0mcontent_type\u001b[0m \u001b[1;33m==\u001b[0m\u001b[0;31m \u001b[0m\u001b[0;31m\\\u001b[0m\u001b[1;33m\u001b[0m\u001b[1;33m\u001b[0m\u001b[0m\n\u001b[0;32m    294\u001b[0m                     \u001b[0mfile_configuration_t\u001b[0m\u001b[1;33m.\u001b[0m\u001b[0mCONTENT_TYPE\u001b[0m\u001b[1;33m.\u001b[0m\u001b[0mGCCXML_GENERATED_FILE\u001b[0m\u001b[1;33m:\u001b[0m\u001b[1;33m\u001b[0m\u001b[1;33m\u001b[0m\u001b[0m\n",
      "\u001b[1;32mc:\\users\\aakri\\appdata\\local\\programs\\python\\python37\\lib\\site-packages\\pygccxml\\parser\\source_reader.py\u001b[0m in \u001b[0;36mread_file\u001b[1;34m(self, source_file)\u001b[0m\n\u001b[0;32m    297\u001b[0m \u001b[1;33m\u001b[0m\u001b[0m\n\u001b[0;32m    298\u001b[0m     \u001b[1;32mdef\u001b[0m \u001b[0mread_file\u001b[0m\u001b[1;33m(\u001b[0m\u001b[0mself\u001b[0m\u001b[1;33m,\u001b[0m \u001b[0msource_file\u001b[0m\u001b[1;33m)\u001b[0m\u001b[1;33m:\u001b[0m\u001b[1;33m\u001b[0m\u001b[1;33m\u001b[0m\u001b[0m\n\u001b[1;32m--> 299\u001b[1;33m         \u001b[1;32mreturn\u001b[0m \u001b[0mself\u001b[0m\u001b[1;33m.\u001b[0m\u001b[0mread_cpp_source_file\u001b[0m\u001b[1;33m(\u001b[0m\u001b[0msource_file\u001b[0m\u001b[1;33m)\u001b[0m\u001b[1;33m\u001b[0m\u001b[1;33m\u001b[0m\u001b[0m\n\u001b[0m\u001b[0;32m    300\u001b[0m \u001b[1;33m\u001b[0m\u001b[0m\n\u001b[0;32m    301\u001b[0m     \u001b[1;32mdef\u001b[0m \u001b[0mread_cpp_source_file\u001b[0m\u001b[1;33m(\u001b[0m\u001b[0mself\u001b[0m\u001b[1;33m,\u001b[0m \u001b[0msource_file\u001b[0m\u001b[1;33m)\u001b[0m\u001b[1;33m:\u001b[0m\u001b[1;33m\u001b[0m\u001b[1;33m\u001b[0m\u001b[0m\n",
      "\u001b[1;32mc:\\users\\aakri\\appdata\\local\\programs\\python\\python37\\lib\\site-packages\\pygccxml\\parser\\source_reader.py\u001b[0m in \u001b[0;36mread_cpp_source_file\u001b[1;34m(self, source_file)\u001b[0m\n\u001b[0;32m    316\u001b[0m                 self.logger.debug(\n\u001b[0;32m    317\u001b[0m                     \"File has not been found in cache, parsing...\")\n\u001b[1;32m--> 318\u001b[1;33m                 \u001b[0mxml_file\u001b[0m \u001b[1;33m=\u001b[0m \u001b[0mself\u001b[0m\u001b[1;33m.\u001b[0m\u001b[0mcreate_xml_file\u001b[0m\u001b[1;33m(\u001b[0m\u001b[0mffname\u001b[0m\u001b[1;33m)\u001b[0m\u001b[1;33m\u001b[0m\u001b[1;33m\u001b[0m\u001b[0m\n\u001b[0m\u001b[0;32m    319\u001b[0m                 \u001b[0mdecls\u001b[0m\u001b[1;33m,\u001b[0m \u001b[0mfiles\u001b[0m \u001b[1;33m=\u001b[0m \u001b[0mself\u001b[0m\u001b[1;33m.\u001b[0m\u001b[0m__parse_xml_file\u001b[0m\u001b[1;33m(\u001b[0m\u001b[0mxml_file\u001b[0m\u001b[1;33m)\u001b[0m\u001b[1;33m\u001b[0m\u001b[1;33m\u001b[0m\u001b[0m\n\u001b[0;32m    320\u001b[0m                 self.__dcache.update(\n",
      "\u001b[1;32mc:\\users\\aakri\\appdata\\local\\programs\\python\\python37\\lib\\site-packages\\pygccxml\\parser\\source_reader.py\u001b[0m in \u001b[0;36mcreate_xml_file\u001b[1;34m(self, source_file, destination)\u001b[0m\n\u001b[0;32m    227\u001b[0m         \u001b[1;32mif\u001b[0m \u001b[1;32mnot\u001b[0m \u001b[0mos\u001b[0m\u001b[1;33m.\u001b[0m\u001b[0mpath\u001b[0m\u001b[1;33m.\u001b[0m\u001b[0misabs\u001b[0m\u001b[1;33m(\u001b[0m\u001b[0mffname\u001b[0m\u001b[1;33m)\u001b[0m\u001b[1;33m:\u001b[0m\u001b[1;33m\u001b[0m\u001b[1;33m\u001b[0m\u001b[0m\n\u001b[0;32m    228\u001b[0m             \u001b[0mffname\u001b[0m \u001b[1;33m=\u001b[0m \u001b[0mself\u001b[0m\u001b[1;33m.\u001b[0m\u001b[0m__file_full_name\u001b[0m\u001b[1;33m(\u001b[0m\u001b[0msource_file\u001b[0m\u001b[1;33m)\u001b[0m\u001b[1;33m\u001b[0m\u001b[1;33m\u001b[0m\u001b[0m\n\u001b[1;32m--> 229\u001b[1;33m         \u001b[0mcommand_line\u001b[0m \u001b[1;33m=\u001b[0m \u001b[0mself\u001b[0m\u001b[1;33m.\u001b[0m\u001b[0m__create_command_line\u001b[0m\u001b[1;33m(\u001b[0m\u001b[0mffname\u001b[0m\u001b[1;33m,\u001b[0m \u001b[0mxml_file\u001b[0m\u001b[1;33m)\u001b[0m\u001b[1;33m\u001b[0m\u001b[1;33m\u001b[0m\u001b[0m\n\u001b[0m\u001b[0;32m    230\u001b[0m \u001b[1;33m\u001b[0m\u001b[0m\n\u001b[0;32m    231\u001b[0m         process = subprocess.Popen(\n",
      "\u001b[1;32mc:\\users\\aakri\\appdata\\local\\programs\\python\\python37\\lib\\site-packages\\pygccxml\\parser\\source_reader.py\u001b[0m in \u001b[0;36m__create_command_line\u001b[1;34m(self, source_file, xml_file)\u001b[0m\n\u001b[0;32m     86\u001b[0m \u001b[1;33m\u001b[0m\u001b[0m\n\u001b[0;32m     87\u001b[0m         \"\"\"\n\u001b[1;32m---> 88\u001b[1;33m         \u001b[1;32mreturn\u001b[0m \u001b[0mself\u001b[0m\u001b[1;33m.\u001b[0m\u001b[0m__create_command_line_castxml\u001b[0m\u001b[1;33m(\u001b[0m\u001b[0msource_file\u001b[0m\u001b[1;33m,\u001b[0m \u001b[0mxml_file\u001b[0m\u001b[1;33m)\u001b[0m\u001b[1;33m\u001b[0m\u001b[1;33m\u001b[0m\u001b[0m\n\u001b[0m\u001b[0;32m     89\u001b[0m \u001b[1;33m\u001b[0m\u001b[0m\n\u001b[0;32m     90\u001b[0m     \u001b[1;32mdef\u001b[0m \u001b[0m__create_command_line_common\u001b[0m\u001b[1;33m(\u001b[0m\u001b[0mself\u001b[0m\u001b[1;33m)\u001b[0m\u001b[1;33m:\u001b[0m\u001b[1;33m\u001b[0m\u001b[1;33m\u001b[0m\u001b[0m\n",
      "\u001b[1;32mc:\\users\\aakri\\appdata\\local\\programs\\python\\python37\\lib\\site-packages\\pygccxml\\parser\\source_reader.py\u001b[0m in \u001b[0;36m__create_command_line_castxml\u001b[1;34m(self, source_file, xmlfile)\u001b[0m\n\u001b[0;32m    119\u001b[0m             raise(RuntimeError(\n\u001b[0;32m    120\u001b[0m                 \u001b[1;34m\"Please pass the compiler_path as argument to \"\u001b[0m \u001b[1;33m+\u001b[0m\u001b[1;33m\u001b[0m\u001b[1;33m\u001b[0m\u001b[0m\n\u001b[1;32m--> 121\u001b[1;33m                 \u001b[1;34m\"your xml_generator_configuration_t(), or add it to your \"\u001b[0m \u001b[1;33m+\u001b[0m\u001b[1;33m\u001b[0m\u001b[1;33m\u001b[0m\u001b[0m\n\u001b[0m\u001b[0;32m    122\u001b[0m                 \"pygccxml configuration file.\"))\n\u001b[0;32m    123\u001b[0m \u001b[1;33m\u001b[0m\u001b[0m\n",
      "\u001b[1;31mRuntimeError\u001b[0m: Please pass the compiler_path as argument to your xml_generator_configuration_t(), or add it to your pygccxml configuration file."
     ]
    }
   ],
   "source": [
    "from pygccxml import utils\n",
    "from pygccxml import declarations\n",
    "from pygccxml import parser\n",
    "\n",
    "# Find out the c++ parser\n",
    "generator_path, generator_name = utils.find_xml_generator()\n",
    "\n",
    "# Configure the xml generator\n",
    "xml_generator_config = parser.xml_generator_configuration_t(\n",
    "    xml_generator_path=generator_path,\n",
    "    xml_generator=generator_name)\n",
    "\n",
    "# The c++ file we want to parse\n",
    "filename = \"sample4.cpp\"\n",
    "\n",
    "decls = parser.parse([filename], xml_generator_config)\n",
    "global_namespace = declarations.get_global_namespace(decls)\n",
    "ns = global_namespace.namespace(\"ns\")\n",
    "\n",
    "# The variables() method will return a list of variables.\n",
    "# We know that the c variable is the third one in the list:\n",
    "c = ns.variables()[2]\n",
    "print(\"My name is: \" + c.name)\n",
    "print(\"My type is: \" + str(c.decl_type))\n",
    "print(\"My value is: \" + c.value)\n",
    "\n",
    "# Of course you can also loop over the list and look for the right name\n",
    "for var in ns.variables():\n",
    "    if var.name == \"c\":\n",
    "        print(\"My name is: \" + var.name)\n",
    "        print(\"My type is: \" + str(var.decl_type))\n",
    "        print(\"My value is: \" + var.value)\n",
    "\n",
    "# One way to get a variable is to use the variable() method and\n",
    "# a lambda function. This is the most flexible way as you can implement\n",
    "# your own lambda function to filter out variables following your\n",
    "# specific criteria.\n",
    "c = ns.variable(lambda v: v.name == \"c\")\n",
    "print(\"My name is: \" + c.name)\n",
    "print(\"My type is: \" + str(c.decl_type))\n",
    "print(\"My value is: \" + c.value)"
   ]
  },
  {
   "cell_type": "code",
   "execution_count": null,
   "metadata": {},
   "outputs": [],
   "source": []
  }
 ],
 "metadata": {
  "kernelspec": {
   "display_name": "Python 3",
   "language": "python",
   "name": "python3"
  },
  "language_info": {
   "codemirror_mode": {
    "name": "ipython",
    "version": 3
   },
   "file_extension": ".py",
   "mimetype": "text/x-python",
   "name": "python",
   "nbconvert_exporter": "python",
   "pygments_lexer": "ipython3",
   "version": "3.7.8"
  }
 },
 "nbformat": 4,
 "nbformat_minor": 4
}
